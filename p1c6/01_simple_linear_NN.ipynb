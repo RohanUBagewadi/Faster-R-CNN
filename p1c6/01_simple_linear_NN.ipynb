{
 "cells": [
  {
   "cell_type": "code",
   "execution_count": 1,
   "metadata": {},
   "outputs": [],
   "source": [
    "import torch\n",
    "import numpy as np\n",
    "import matplotlib.pyplot as plt"
   ]
  },
  {
   "cell_type": "markdown",
   "metadata": {},
   "source": [
    "### Using pytorch torch.nn module to bulit neural networks\n",
    "PyTorch has a whole submodule dedicated to neural networks, called torch.nn. It\n",
    "contains the building blocks needed to create all sorts of neural network architectures.\n",
    "Those building blocks are called modules in PyTorch parlance (such building\n",
    "blocks are often referred to as layers in other frameworks)"
   ]
  },
  {
   "cell_type": "markdown",
   "metadata": {},
   "source": [
    "#### 1. Buliding basic linear model"
   ]
  },
  {
   "cell_type": "code",
   "execution_count": 2,
   "metadata": {},
   "outputs": [],
   "source": [
    "import torch.nn as nn"
   ]
  },
  {
   "cell_type": "code",
   "execution_count": 3,
   "metadata": {},
   "outputs": [
    {
     "data": {
      "text/plain": [
       "Linear(in_features=1, out_features=1, bias=True)"
      ]
     },
     "execution_count": 3,
     "metadata": {},
     "output_type": "execute_result"
    }
   ],
   "source": [
    "linear_model = nn.Linear(1, 1)\n",
    "linear_model"
   ]
  },
  {
   "cell_type": "markdown",
   "metadata": {},
   "source": [
    "Mow we have an instance of nn.Linear with one input and one output feature. That\n",
    "only requires one weight and one bias:"
   ]
  },
  {
   "cell_type": "code",
   "execution_count": 4,
   "metadata": {},
   "outputs": [
    {
     "data": {
      "text/plain": [
       "(Parameter containing:\n",
       " tensor([[-0.4664]], requires_grad=True),\n",
       " Parameter containing:\n",
       " tensor([-0.0791], requires_grad=True))"
      ]
     },
     "execution_count": 4,
     "metadata": {},
     "output_type": "execute_result"
    }
   ],
   "source": [
    "# to get weight and bias of the defined model\n",
    "linear_model.weight, linear_model.bias"
   ]
  },
  {
   "cell_type": "code",
   "execution_count": 5,
   "metadata": {},
   "outputs": [
    {
     "data": {
      "text/plain": [
       "tensor([-0.5454], grad_fn=<AddBackward0>)"
      ]
     },
     "execution_count": 5,
     "metadata": {},
     "output_type": "execute_result"
    }
   ],
   "source": [
    "# Input\n",
    "x = torch.ones(1)\n",
    "linear_model(x)"
   ]
  },
  {
   "cell_type": "markdown",
   "metadata": {},
   "source": [
    "Any module in nn is written to produce outputs for a batch of multiple inputs at the\n",
    "same time. Thus, assuming we need to run nn.Linear on 10 samples, we can create an\n",
    "input tensor of size B × Nin, where B is the size of the batch and Nin is the number of\n",
    "input features, and run it once through the model. For example"
   ]
  },
  {
   "cell_type": "code",
   "execution_count": 6,
   "metadata": {},
   "outputs": [
    {
     "data": {
      "text/plain": [
       "tensor([[-0.5454],\n",
       "        [-0.5454],\n",
       "        [-0.5454],\n",
       "        [-0.5454],\n",
       "        [-0.5454],\n",
       "        [-0.5454],\n",
       "        [-0.5454],\n",
       "        [-0.5454],\n",
       "        [-0.5454],\n",
       "        [-0.5454]], grad_fn=<AddmmBackward>)"
      ]
     },
     "execution_count": 6,
     "metadata": {},
     "output_type": "execute_result"
    }
   ],
   "source": [
    "x = torch.ones(10, 1)\n",
    "linear_model(x)"
   ]
  },
  {
   "cell_type": "code",
   "execution_count": 7,
   "metadata": {},
   "outputs": [],
   "source": [
    "t_c = [0.5, 14.0, 15.0, 28.0, 11.0, 8.0, 3.0, -4.0, 6.0, 13.0, 21.0]\n",
    "t_u = [35.7, 55.9, 58.2, 81.9, 56.3, 48.9, 33.9, 21.8, 48.4, 60.4, 68.4]\n",
    "t_c = torch.tensor(t_c)\n",
    "t_u = torch.tensor(t_u)"
   ]
  },
  {
   "cell_type": "code",
   "execution_count": 8,
   "metadata": {},
   "outputs": [
    {
     "data": {
      "text/plain": [
       "(torch.Size([11]), torch.Size([11]))"
      ]
     },
     "execution_count": 8,
     "metadata": {},
     "output_type": "execute_result"
    }
   ],
   "source": [
    "t_c.shape, t_u.shape"
   ]
  },
  {
   "cell_type": "code",
   "execution_count": 9,
   "metadata": {},
   "outputs": [],
   "source": [
    "from torch import optim\n",
    "\n",
    "linear_model = nn.Linear(1, 1)\n",
    "# This method call replaces [params]\n",
    "optimizer = optim.SGD(linear_model.parameters(), lr=1e-2)"
   ]
  },
  {
   "cell_type": "markdown",
   "metadata": {},
   "source": [
    "**torch.optim** is a package implementing various optimization algorithms. To use **torch.optim** you have to construct an optimizer object, that will hold the current state and will update the parameters based on the computed gradients."
   ]
  },
  {
   "cell_type": "code",
   "execution_count": 10,
   "metadata": {},
   "outputs": [
    {
     "data": {
      "text/plain": [
       "[Parameter containing:\n",
       " tensor([[0.0887]], requires_grad=True),\n",
       " Parameter containing:\n",
       " tensor([-0.3808], requires_grad=True)]"
      ]
     },
     "execution_count": 10,
     "metadata": {},
     "output_type": "execute_result"
    }
   ],
   "source": [
    "# to get the list of model parameters to be optimized\n",
    "# i.e 'Weight' and 'bias'\n",
    "list(linear_model.parameters())"
   ]
  },
  {
   "cell_type": "markdown",
   "metadata": {},
   "source": [
    "The optimizer is provided with a list of tensors that were defined with **requires_grad = True**—all Parameters are defined this way by definition, since they need to be optimized by gradient descent. When **training_loss.backward()** is called, grad is accumulated on the leaf nodes of the graph, which are precisely the parameters that were passed to the optimizer."
   ]
  },
  {
   "cell_type": "markdown",
   "metadata": {},
   "source": [
    "At this point, the SGD optimizer has everything it needs. When **optimizer.step()**\n",
    "is called, it will iterate through each *Parameter* and change it by an amount proportional\n",
    "to what is stored in its grad attribute. Pretty clean design."
   ]
  },
  {
   "cell_type": "code",
   "execution_count": 23,
   "metadata": {},
   "outputs": [],
   "source": [
    "# defining the training loop\n",
    "def training_loop(n_epochs, optimizer, model, loss_fn,\n",
    "                   t_u_train, t_u_val, t_c_train, t_c_val):\n",
    "    for epoch in range(1, n_epochs + 1):\n",
    "        t_p_train = model(t_u_train)\n",
    "        loss_train = loss_fn(t_p_train, t_c_train)\n",
    "        \n",
    "        t_p_val = model(t_u_val)\n",
    "        loss_val = loss_fn(t_p_val, t_c_val)\n",
    "        \n",
    "        optimizer.zero_grad()\n",
    "        loss_train.backward()\n",
    "        optimizer.step()\n",
    "        \n",
    "        if epoch == 1 or epoch%1000 == 0:\n",
    "            print(\"Epoch:%d, Training loss:%.4f, Val loss:%.4f\" \n",
    "                  %(epoch, loss_train, loss_val))"
   ]
  },
  {
   "cell_type": "code",
   "execution_count": 12,
   "metadata": {},
   "outputs": [
    {
     "data": {
      "text/plain": [
       "(tensor([[4.8900],\n",
       "         [5.5900],\n",
       "         [5.6300],\n",
       "         [3.5700],\n",
       "         [8.1900],\n",
       "         [3.3900],\n",
       "         [5.8200],\n",
       "         [4.8400],\n",
       "         [6.8400]]),\n",
       " torch.Size([9, 1]))"
      ]
     },
     "execution_count": 12,
     "metadata": {},
     "output_type": "execute_result"
    }
   ],
   "source": [
    "n_samples = t_u.shape[0]\n",
    "n_val = int(0.2 * n_samples)\n",
    "\n",
    "shuffled_indices = torch.randperm(n_samples)\n",
    "\n",
    "train_indices = shuffled_indices[:-n_val]\n",
    "val_indices = shuffled_indices[-n_val:]\n",
    "\n",
    "train_indices, val_indices\n",
    "\n",
    "t_u_train = t_u[train_indices].unsqueeze(-1)\n",
    "t_c_train = t_c[train_indices].unsqueeze(-1)\n",
    "\n",
    "t_u_val = t_u[val_indices].unsqueeze(-1)\n",
    "t_c_val = t_c[val_indices].unsqueeze(-1)\n",
    "\n",
    "t_un_train = 0.1 * t_u_train\n",
    "t_un_val = 0.1 * t_u_val\n",
    "\n",
    "t_un_train, t_u_train.shape"
   ]
  },
  {
   "cell_type": "code",
   "execution_count": 49,
   "metadata": {},
   "outputs": [
    {
     "data": {
      "text/plain": [
       "(tensor([ 5,  1,  4,  0,  3,  6,  2,  8, 10]),\n",
       " tensor([[48.9000],\n",
       "         [55.9000],\n",
       "         [56.3000],\n",
       "         [35.7000],\n",
       "         [81.9000],\n",
       "         [33.9000],\n",
       "         [58.2000],\n",
       "         [48.4000],\n",
       "         [68.4000]]))"
      ]
     },
     "execution_count": 49,
     "metadata": {},
     "output_type": "execute_result"
    }
   ],
   "source": [
    "train_indices, t_u_train"
   ]
  },
  {
   "cell_type": "markdown",
   "metadata": {},
   "source": [
    "There’s one last bit that we can leverage from **torch.nn:** the loss. Indeed, nn comes with several common loss functions, among them **nn.MSELoss** (MSE stands for Mean Square Error), which is exactly what we defined earlier as our loss_fn"
   ]
  },
  {
   "cell_type": "code",
   "execution_count": 24,
   "metadata": {},
   "outputs": [
    {
     "name": "stdout",
     "output_type": "stream",
     "text": [
      "Epoch:1, Training loss:121.7230, Val loss:56.1450\n",
      "Epoch:1000, Training loss:4.6240, Val loss:2.6424\n",
      "Epoch:2000, Training loss:2.7051, Val loss:4.1189\n",
      "Epoch:3000, Training loss:2.5460, Val loss:5.7409\n"
     ]
    }
   ],
   "source": [
    "linear_model = nn.Linear(1, 1)\n",
    "optimizer = optim.SGD(linear_model.parameters(), lr=1e-2)\n",
    "\n",
    "training_loop(n_epochs=3000,\n",
    "              optimizer=optimizer,\n",
    "              model=linear_model,\n",
    "              loss_fn=nn.MSELoss(),\n",
    "              t_u_train=t_un_train,\n",
    "              t_u_val=t_un_val,\n",
    "              t_c_train=t_c_train,\n",
    "              t_c_val=t_c_val)"
   ]
  },
  {
   "cell_type": "markdown",
   "metadata": {},
   "source": [
    "#### 2. Replacing the linear model with a simple neural network\n",
    "\n",
    "<img src=\"../images/img_chapter_06_linear_model_to_NN.png\" style=\"width:500px;height:50\"/>\n"
   ]
  },
  {
   "cell_type": "code",
   "execution_count": 14,
   "metadata": {},
   "outputs": [
    {
     "data": {
      "text/plain": [
       "Sequential(\n",
       "  (0): Linear(in_features=1, out_features=13, bias=True)\n",
       "  (1): Tanh()\n",
       "  (2): Linear(in_features=13, out_features=1, bias=True)\n",
       ")"
      ]
     },
     "execution_count": 14,
     "metadata": {},
     "output_type": "execute_result"
    }
   ],
   "source": [
    "seq_model = nn.Sequential(nn.Linear(1, 13),\n",
    "                          nn.Tanh(),\n",
    "                          nn.Linear(13, 1))\n",
    "seq_model"
   ]
  },
  {
   "cell_type": "code",
   "execution_count": 15,
   "metadata": {},
   "outputs": [
    {
     "data": {
      "text/plain": [
       "[torch.Size([13, 1]), torch.Size([13]), torch.Size([1, 13]), torch.Size([1])]"
      ]
     },
     "execution_count": 15,
     "metadata": {},
     "output_type": "execute_result"
    }
   ],
   "source": [
    "# Inspecting the parameters\n",
    "[param.shape for param in seq_model.parameters()]"
   ]
  },
  {
   "cell_type": "markdown",
   "metadata": {},
   "source": [
    "When inspecting parameters of a model\n",
    "made up of several submodules, it is handy to be able to identify parameters by name.\n",
    "There’s a method for that, called *named_parameters*:"
   ]
  },
  {
   "cell_type": "code",
   "execution_count": 16,
   "metadata": {},
   "outputs": [
    {
     "name": "stdout",
     "output_type": "stream",
     "text": [
      "0.weight torch.Size([13, 1])\n",
      "0.bias torch.Size([13])\n",
      "2.weight torch.Size([1, 13])\n",
      "2.bias torch.Size([1])\n"
     ]
    }
   ],
   "source": [
    "for name, param in seq_model.named_parameters():\n",
    "    print(name, param.shape)"
   ]
  },
  {
   "cell_type": "markdown",
   "metadata": {},
   "source": [
    "The name of each module in *Sequential* is just the ordinal with which the module\n",
    "appears in the arguments. Interestingly, *Sequential* also accepts an *OrderedDict*, in\n",
    "which we can name each module passed to *Sequential*:"
   ]
  },
  {
   "cell_type": "code",
   "execution_count": 18,
   "metadata": {},
   "outputs": [],
   "source": [
    "from collections import OrderedDict\n",
    "seq_model = nn.Sequential(OrderedDict([\n",
    "                        ('hidden_linear', nn.Linear(1, 8)),\n",
    "                        ('hidden_activation', nn.Tanh()),\n",
    "                        ('output_linear', nn.Linear(8, 1))\n",
    "                        ]))"
   ]
  },
  {
   "cell_type": "code",
   "execution_count": 19,
   "metadata": {},
   "outputs": [
    {
     "data": {
      "text/plain": [
       "Sequential(\n",
       "  (hidden_linear): Linear(in_features=1, out_features=8, bias=True)\n",
       "  (hidden_activation): Tanh()\n",
       "  (output_linear): Linear(in_features=8, out_features=1, bias=True)\n",
       ")"
      ]
     },
     "execution_count": 19,
     "metadata": {},
     "output_type": "execute_result"
    }
   ],
   "source": [
    "seq_model"
   ]
  },
  {
   "cell_type": "code",
   "execution_count": 20,
   "metadata": {},
   "outputs": [
    {
     "name": "stdout",
     "output_type": "stream",
     "text": [
      "hidden_linear.weight torch.Size([8, 1])\n",
      "hidden_linear.bias torch.Size([8])\n",
      "output_linear.weight torch.Size([1, 8])\n",
      "output_linear.bias torch.Size([1])\n"
     ]
    }
   ],
   "source": [
    "for name, param in seq_model.named_parameters():\n",
    "    print(name, param.shape)"
   ]
  },
  {
   "cell_type": "code",
   "execution_count": 21,
   "metadata": {},
   "outputs": [
    {
     "data": {
      "text/plain": [
       "Parameter containing:\n",
       "tensor([[ 0.9657],\n",
       "        [-0.0189],\n",
       "        [ 0.2885],\n",
       "        [ 0.9948],\n",
       "        [-0.5676],\n",
       "        [-0.2174],\n",
       "        [ 0.3317],\n",
       "        [-0.5404]], requires_grad=True)"
      ]
     },
     "execution_count": 21,
     "metadata": {},
     "output_type": "execute_result"
    }
   ],
   "source": [
    "# We can also access a particular Parameter\n",
    "# by using submodules as attributes:\n",
    "seq_model.hidden_linear.weight"
   ]
  },
  {
   "cell_type": "code",
   "execution_count": 25,
   "metadata": {},
   "outputs": [
    {
     "name": "stdout",
     "output_type": "stream",
     "text": [
      "Epoch:1, Training loss:212.0688, Val loss:94.2214\n",
      "Epoch:1000, Training loss:4.9337, Val loss:3.8363\n",
      "Epoch:2000, Training loss:4.2538, Val loss:12.2038\n",
      "Epoch:3000, Training loss:2.2067, Val loss:10.6045\n",
      "Epoch:4000, Training loss:1.7022, Val loss:10.2019\n",
      "Epoch:5000, Training loss:1.4493, Val loss:9.5445\n"
     ]
    }
   ],
   "source": [
    "optimizer = optim.SGD(seq_model.parameters(), lr=1e-3)\n",
    "\n",
    "training_loop(\n",
    "n_epochs = 5000,\n",
    "optimizer = optimizer,\n",
    "model = seq_model,\n",
    "loss_fn = nn.MSELoss(),\n",
    "t_u_train = t_un_train,\n",
    "t_u_val = t_un_val,\n",
    "t_c_train = t_c_train,\n",
    "t_c_val = t_c_val)"
   ]
  },
  {
   "cell_type": "code",
   "execution_count": 29,
   "metadata": {},
   "outputs": [
    {
     "name": "stdout",
     "output_type": "stream",
     "text": [
      "output tensor([[15.6178],\n",
      "        [-0.9672]], grad_fn=<AddmmBackward>)\n",
      "answer tensor([[13.],\n",
      "        [-4.]])\n",
      "hidden tensor([[-2.0741e-03],\n",
      "        [-5.9225e+00],\n",
      "        [ 5.2238e+00],\n",
      "        [-3.8859e-02],\n",
      "        [-5.7606e+00],\n",
      "        [-5.6466e+00],\n",
      "        [ 4.1701e-02],\n",
      "        [-5.1872e-02]])\n"
     ]
    }
   ],
   "source": [
    "print('output', seq_model(t_un_val))\n",
    "print('answer', t_c_val)\n",
    "print('hidden', seq_model.hidden_linear.weight.grad)"
   ]
  },
  {
   "cell_type": "markdown",
   "metadata": {},
   "source": [
    "#### 3. Comparing to the linear model"
   ]
  },
  {
   "cell_type": "code",
   "execution_count": 53,
   "metadata": {},
   "outputs": [
    {
     "data": {
      "text/plain": [
       "[<matplotlib.lines.Line2D at 0x15b1d48a9c8>]"
      ]
     },
     "execution_count": 53,
     "metadata": {},
     "output_type": "execute_result"
    },
    {
     "data": {
      "image/png": "[encoded data removed]",
      "text/plain": [
       "<Figure size 360x360 with 1 Axes>"
      ]
     },
     "metadata": {
      "needs_background": "light"
     },
     "output_type": "display_data"
    }
   ],
   "source": [
    "t_range = torch.arange(20., 90.).unsqueeze(-1)\n",
    "\n",
    "fig = plt.figure(figsize=(5, 5))\n",
    "plt.xlabel(\"Fahrenheit\")\n",
    "plt.ylabel(\"Celsius\")\n",
    "plt.plot(t_u.numpy(), t_c.numpy(), 'o', 'b')\n",
    "plt.plot(t_range.numpy(),seq_model(0.1*t_range).detach().numpy(), 'kx')\n"
   ]
  },
  {
   "cell_type": "code",
   "execution_count": 36,
   "metadata": {},
   "outputs": [
    {
     "data": {
      "text/plain": [
       "(70, 1)"
      ]
     },
     "execution_count": 36,
     "metadata": {},
     "output_type": "execute_result"
    }
   ],
   "source": [
    "t_range.numpy().shape\n"
   ]
  },
  {
   "cell_type": "code",
   "execution_count": 46,
   "metadata": {},
   "outputs": [
    {
     "data": {
      "text/plain": [
       "array([35.7, 55.9, 58.2, 81.9, 56.3, 48.9, 33.9, 21.8, 48.4, 60.4, 68.4],\n",
       "      dtype=float32)"
      ]
     },
     "execution_count": 46,
     "metadata": {},
     "output_type": "execute_result"
    }
   ],
   "source": [
    "t_u.numpy()"
   ]
  },
  {
   "cell_type": "code",
   "execution_count": 44,
   "metadata": {},
   "outputs": [
    {
     "data": {
      "text/plain": [
       "array([[30.40131 ],\n",
       "       [30.401342],\n",
       "       [30.401356],\n",
       "       [30.401363],\n",
       "       [30.401363],\n",
       "       [30.401367],\n",
       "       [30.401367],\n",
       "       [30.401367],\n",
       "       [30.401367],\n",
       "       [30.401367],\n",
       "       [30.401367],\n",
       "       [30.401367],\n",
       "       [30.401367],\n",
       "       [30.401367],\n",
       "       [30.401367],\n",
       "       [30.401367],\n",
       "       [30.401367],\n",
       "       [30.401367],\n",
       "       [30.401367],\n",
       "       [30.401367],\n",
       "       [30.401367],\n",
       "       [30.401367],\n",
       "       [30.401367],\n",
       "       [30.401367],\n",
       "       [30.401367],\n",
       "       [30.401367],\n",
       "       [30.401367],\n",
       "       [30.401367],\n",
       "       [30.401367],\n",
       "       [30.401367],\n",
       "       [30.401367],\n",
       "       [30.401367],\n",
       "       [30.401367],\n",
       "       [30.401367],\n",
       "       [30.401367],\n",
       "       [30.401367],\n",
       "       [30.401367],\n",
       "       [30.401367],\n",
       "       [30.401367],\n",
       "       [30.401367],\n",
       "       [30.401367],\n",
       "       [30.401367],\n",
       "       [30.401367],\n",
       "       [30.401367],\n",
       "       [30.401367],\n",
       "       [30.401367],\n",
       "       [30.401367],\n",
       "       [30.401367],\n",
       "       [30.401367],\n",
       "       [30.401367],\n",
       "       [30.401367],\n",
       "       [30.401367],\n",
       "       [30.401367],\n",
       "       [30.401367],\n",
       "       [30.401367],\n",
       "       [30.401367],\n",
       "       [30.401367],\n",
       "       [30.401367],\n",
       "       [30.401367],\n",
       "       [30.401367],\n",
       "       [30.401367],\n",
       "       [30.401367],\n",
       "       [30.401367],\n",
       "       [30.401367],\n",
       "       [30.401367],\n",
       "       [30.401367],\n",
       "       [30.401367],\n",
       "       [30.401367],\n",
       "       [30.401367],\n",
       "       [30.401367]], dtype=float32)"
      ]
     },
     "execution_count": 44,
     "metadata": {},
     "output_type": "execute_result"
    }
   ],
   "source": [
    "seq_model(t_range).detach().numpy()"
   ]
  },
  {
   "cell_type": "code",
   "execution_count": null,
   "metadata": {},
   "outputs": [],
   "source": []
  }
 ],
 "metadata": {
  "kernelspec": {
   "display_name": "Python 3",
   "language": "python",
   "name": "python3"
  },
  "language_info": {
   "codemirror_mode": {
    "name": "ipython",
    "version": 3
   },
   "file_extension": ".py",
   "mimetype": "text/x-python",
   "name": "python",
   "nbconvert_exporter": "python",
   "pygments_lexer": "ipython3",
   "version": "3.7.6"
  }
 },
 "nbformat": 4,
 "nbformat_minor": 4
}
